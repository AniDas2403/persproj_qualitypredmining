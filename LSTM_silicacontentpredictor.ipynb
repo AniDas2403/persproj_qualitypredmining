{
 "cells": [
  {
   "cell_type": "markdown",
   "id": "endless-dream",
   "metadata": {},
   "source": [
    "## Importing Libraries"
   ]
  },
  {
   "cell_type": "code",
   "execution_count": 1,
   "id": "superb-interim",
   "metadata": {},
   "outputs": [],
   "source": [
    "from keras.models import Sequential\n",
    "from keras.layers import Dense, LSTM\n",
    "import numpy as np\n",
    "import numpy as np\n",
    "import pandas as pd\n",
    "import keras\n",
    "import tensorflow as tf\n",
    "import matplotlib.pyplot as plt\n",
    "from matplotlib import style\n",
    "import sklearn\n",
    "from sklearn.model_selection import train_test_split\n",
    "from sklearn.preprocessing import MinMaxScaler\n",
    "from sklearn import preprocessing, svm, metrics  \n",
    "import math\n",
    "from keras import metrics\n",
    "from sklearn.metrics import accuracy_score\n",
    "from sklearn.metrics import confusion_matrix"
   ]
  },
  {
   "cell_type": "markdown",
   "id": "contrary-average",
   "metadata": {},
   "source": [
    "## Preparing X and Y"
   ]
  },
  {
   "cell_type": "code",
   "execution_count": 2,
   "id": "binary-biotechnology",
   "metadata": {},
   "outputs": [
    {
     "data": {
      "text/html": [
       "<div>\n",
       "<style scoped>\n",
       "    .dataframe tbody tr th:only-of-type {\n",
       "        vertical-align: middle;\n",
       "    }\n",
       "\n",
       "    .dataframe tbody tr th {\n",
       "        vertical-align: top;\n",
       "    }\n",
       "\n",
       "    .dataframe thead th {\n",
       "        text-align: right;\n",
       "    }\n",
       "</style>\n",
       "<table border=\"1\" class=\"dataframe\">\n",
       "  <thead>\n",
       "    <tr style=\"text-align: right;\">\n",
       "      <th></th>\n",
       "      <th>Unnamed: 0</th>\n",
       "      <th>% Iron Feed</th>\n",
       "      <th>% Silica Feed</th>\n",
       "      <th>Starch Flow</th>\n",
       "      <th>Amina Flow</th>\n",
       "      <th>Ore Pulp Flow</th>\n",
       "      <th>Ore Pulp pH</th>\n",
       "      <th>Ore Pulp Density</th>\n",
       "      <th>Floatation Column Air Flow Mean</th>\n",
       "      <th>Floatation Column Air Flow Median</th>\n",
       "      <th>Floatation Column Level Mean</th>\n",
       "      <th>Floatation Column Level Median</th>\n",
       "      <th>% Iron Concentrate</th>\n",
       "      <th>% Silica Concentrate</th>\n",
       "    </tr>\n",
       "  </thead>\n",
       "  <tbody>\n",
       "    <tr>\n",
       "      <th>0</th>\n",
       "      <td>0</td>\n",
       "      <td>55.2</td>\n",
       "      <td>16.98</td>\n",
       "      <td>3019.53</td>\n",
       "      <td>557.434</td>\n",
       "      <td>395.713</td>\n",
       "      <td>10.0664</td>\n",
       "      <td>1.74</td>\n",
       "      <td>265.090000</td>\n",
       "      <td>250.884</td>\n",
       "      <td>461.548429</td>\n",
       "      <td>446.370</td>\n",
       "      <td>66.91</td>\n",
       "      <td>1.31</td>\n",
       "    </tr>\n",
       "    <tr>\n",
       "      <th>1</th>\n",
       "      <td>1</td>\n",
       "      <td>55.2</td>\n",
       "      <td>16.98</td>\n",
       "      <td>3024.41</td>\n",
       "      <td>563.965</td>\n",
       "      <td>397.383</td>\n",
       "      <td>10.0672</td>\n",
       "      <td>1.74</td>\n",
       "      <td>264.534286</td>\n",
       "      <td>250.532</td>\n",
       "      <td>457.548000</td>\n",
       "      <td>448.086</td>\n",
       "      <td>66.91</td>\n",
       "      <td>1.31</td>\n",
       "    </tr>\n",
       "    <tr>\n",
       "      <th>2</th>\n",
       "      <td>2</td>\n",
       "      <td>55.2</td>\n",
       "      <td>16.98</td>\n",
       "      <td>3043.46</td>\n",
       "      <td>568.054</td>\n",
       "      <td>399.668</td>\n",
       "      <td>10.0680</td>\n",
       "      <td>1.74</td>\n",
       "      <td>264.120000</td>\n",
       "      <td>250.313</td>\n",
       "      <td>456.467000</td>\n",
       "      <td>451.240</td>\n",
       "      <td>66.91</td>\n",
       "      <td>1.31</td>\n",
       "    </tr>\n",
       "    <tr>\n",
       "      <th>3</th>\n",
       "      <td>3</td>\n",
       "      <td>55.2</td>\n",
       "      <td>16.98</td>\n",
       "      <td>3047.36</td>\n",
       "      <td>568.665</td>\n",
       "      <td>397.939</td>\n",
       "      <td>10.0689</td>\n",
       "      <td>1.74</td>\n",
       "      <td>265.359714</td>\n",
       "      <td>251.147</td>\n",
       "      <td>448.064429</td>\n",
       "      <td>446.210</td>\n",
       "      <td>66.91</td>\n",
       "      <td>1.31</td>\n",
       "    </tr>\n",
       "    <tr>\n",
       "      <th>4</th>\n",
       "      <td>4</td>\n",
       "      <td>55.2</td>\n",
       "      <td>16.98</td>\n",
       "      <td>3033.69</td>\n",
       "      <td>558.167</td>\n",
       "      <td>400.254</td>\n",
       "      <td>10.0697</td>\n",
       "      <td>1.74</td>\n",
       "      <td>264.663000</td>\n",
       "      <td>250.203</td>\n",
       "      <td>448.784714</td>\n",
       "      <td>452.441</td>\n",
       "      <td>66.91</td>\n",
       "      <td>1.31</td>\n",
       "    </tr>\n",
       "  </tbody>\n",
       "</table>\n",
       "</div>"
      ],
      "text/plain": [
       "   Unnamed: 0  % Iron Feed  % Silica Feed  Starch Flow  Amina Flow  \\\n",
       "0           0         55.2          16.98      3019.53     557.434   \n",
       "1           1         55.2          16.98      3024.41     563.965   \n",
       "2           2         55.2          16.98      3043.46     568.054   \n",
       "3           3         55.2          16.98      3047.36     568.665   \n",
       "4           4         55.2          16.98      3033.69     558.167   \n",
       "\n",
       "   Ore Pulp Flow  Ore Pulp pH  Ore Pulp Density  \\\n",
       "0        395.713      10.0664              1.74   \n",
       "1        397.383      10.0672              1.74   \n",
       "2        399.668      10.0680              1.74   \n",
       "3        397.939      10.0689              1.74   \n",
       "4        400.254      10.0697              1.74   \n",
       "\n",
       "   Floatation Column Air Flow Mean  Floatation Column Air Flow Median  \\\n",
       "0                       265.090000                            250.884   \n",
       "1                       264.534286                            250.532   \n",
       "2                       264.120000                            250.313   \n",
       "3                       265.359714                            251.147   \n",
       "4                       264.663000                            250.203   \n",
       "\n",
       "   Floatation Column Level Mean  Floatation Column Level Median  \\\n",
       "0                    461.548429                         446.370   \n",
       "1                    457.548000                         448.086   \n",
       "2                    456.467000                         451.240   \n",
       "3                    448.064429                         446.210   \n",
       "4                    448.784714                         452.441   \n",
       "\n",
       "   % Iron Concentrate  % Silica Concentrate  \n",
       "0               66.91                  1.31  \n",
       "1               66.91                  1.31  \n",
       "2               66.91                  1.31  \n",
       "3               66.91                  1.31  \n",
       "4               66.91                  1.31  "
      ]
     },
     "execution_count": 2,
     "metadata": {},
     "output_type": "execute_result"
    }
   ],
   "source": [
    "data = pd.read_csv('./miningdata.csv', index_col=False)\n",
    "data.head()"
   ]
  },
  {
   "cell_type": "code",
   "execution_count": 3,
   "id": "legislative-longitude",
   "metadata": {},
   "outputs": [
    {
     "data": {
      "text/html": [
       "<div>\n",
       "<style scoped>\n",
       "    .dataframe tbody tr th:only-of-type {\n",
       "        vertical-align: middle;\n",
       "    }\n",
       "\n",
       "    .dataframe tbody tr th {\n",
       "        vertical-align: top;\n",
       "    }\n",
       "\n",
       "    .dataframe thead th {\n",
       "        text-align: right;\n",
       "    }\n",
       "</style>\n",
       "<table border=\"1\" class=\"dataframe\">\n",
       "  <thead>\n",
       "    <tr style=\"text-align: right;\">\n",
       "      <th></th>\n",
       "      <th>% Iron Feed</th>\n",
       "      <th>% Silica Feed</th>\n",
       "      <th>Starch Flow</th>\n",
       "      <th>Amina Flow</th>\n",
       "      <th>Ore Pulp Flow</th>\n",
       "      <th>Ore Pulp pH</th>\n",
       "      <th>Ore Pulp Density</th>\n",
       "      <th>Floatation Column Air Flow Mean</th>\n",
       "      <th>Floatation Column Air Flow Median</th>\n",
       "      <th>Floatation Column Level Mean</th>\n",
       "      <th>Floatation Column Level Median</th>\n",
       "    </tr>\n",
       "  </thead>\n",
       "  <tbody>\n",
       "    <tr>\n",
       "      <th>0</th>\n",
       "      <td>55.2</td>\n",
       "      <td>16.98</td>\n",
       "      <td>3019.53</td>\n",
       "      <td>557.434</td>\n",
       "      <td>395.713</td>\n",
       "      <td>10.0664</td>\n",
       "      <td>1.74</td>\n",
       "      <td>265.090000</td>\n",
       "      <td>250.884</td>\n",
       "      <td>461.548429</td>\n",
       "      <td>446.370</td>\n",
       "    </tr>\n",
       "    <tr>\n",
       "      <th>1</th>\n",
       "      <td>55.2</td>\n",
       "      <td>16.98</td>\n",
       "      <td>3024.41</td>\n",
       "      <td>563.965</td>\n",
       "      <td>397.383</td>\n",
       "      <td>10.0672</td>\n",
       "      <td>1.74</td>\n",
       "      <td>264.534286</td>\n",
       "      <td>250.532</td>\n",
       "      <td>457.548000</td>\n",
       "      <td>448.086</td>\n",
       "    </tr>\n",
       "    <tr>\n",
       "      <th>2</th>\n",
       "      <td>55.2</td>\n",
       "      <td>16.98</td>\n",
       "      <td>3043.46</td>\n",
       "      <td>568.054</td>\n",
       "      <td>399.668</td>\n",
       "      <td>10.0680</td>\n",
       "      <td>1.74</td>\n",
       "      <td>264.120000</td>\n",
       "      <td>250.313</td>\n",
       "      <td>456.467000</td>\n",
       "      <td>451.240</td>\n",
       "    </tr>\n",
       "    <tr>\n",
       "      <th>3</th>\n",
       "      <td>55.2</td>\n",
       "      <td>16.98</td>\n",
       "      <td>3047.36</td>\n",
       "      <td>568.665</td>\n",
       "      <td>397.939</td>\n",
       "      <td>10.0689</td>\n",
       "      <td>1.74</td>\n",
       "      <td>265.359714</td>\n",
       "      <td>251.147</td>\n",
       "      <td>448.064429</td>\n",
       "      <td>446.210</td>\n",
       "    </tr>\n",
       "    <tr>\n",
       "      <th>4</th>\n",
       "      <td>55.2</td>\n",
       "      <td>16.98</td>\n",
       "      <td>3033.69</td>\n",
       "      <td>558.167</td>\n",
       "      <td>400.254</td>\n",
       "      <td>10.0697</td>\n",
       "      <td>1.74</td>\n",
       "      <td>264.663000</td>\n",
       "      <td>250.203</td>\n",
       "      <td>448.784714</td>\n",
       "      <td>452.441</td>\n",
       "    </tr>\n",
       "  </tbody>\n",
       "</table>\n",
       "</div>"
      ],
      "text/plain": [
       "   % Iron Feed  % Silica Feed  Starch Flow  Amina Flow  Ore Pulp Flow  \\\n",
       "0         55.2          16.98      3019.53     557.434        395.713   \n",
       "1         55.2          16.98      3024.41     563.965        397.383   \n",
       "2         55.2          16.98      3043.46     568.054        399.668   \n",
       "3         55.2          16.98      3047.36     568.665        397.939   \n",
       "4         55.2          16.98      3033.69     558.167        400.254   \n",
       "\n",
       "   Ore Pulp pH  Ore Pulp Density  Floatation Column Air Flow Mean  \\\n",
       "0      10.0664              1.74                       265.090000   \n",
       "1      10.0672              1.74                       264.534286   \n",
       "2      10.0680              1.74                       264.120000   \n",
       "3      10.0689              1.74                       265.359714   \n",
       "4      10.0697              1.74                       264.663000   \n",
       "\n",
       "   Floatation Column Air Flow Median  Floatation Column Level Mean  \\\n",
       "0                            250.884                    461.548429   \n",
       "1                            250.532                    457.548000   \n",
       "2                            250.313                    456.467000   \n",
       "3                            251.147                    448.064429   \n",
       "4                            250.203                    448.784714   \n",
       "\n",
       "   Floatation Column Level Median  \n",
       "0                         446.370  \n",
       "1                         448.086  \n",
       "2                         451.240  \n",
       "3                         446.210  \n",
       "4                         452.441  "
      ]
     },
     "execution_count": 3,
     "metadata": {},
     "output_type": "execute_result"
    }
   ],
   "source": [
    "X = data[['% Iron Feed', '% Silica Feed', 'Starch Flow', 'Amina Flow', 'Ore Pulp Flow', 'Ore Pulp pH', 'Ore Pulp Density', 'Floatation Column Air Flow Mean', 'Floatation Column Air Flow Median', 'Floatation Column Level Mean', 'Floatation Column Level Median']]\n",
    "X.head()"
   ]
  },
  {
   "cell_type": "code",
   "execution_count": 4,
   "id": "specific-arrow",
   "metadata": {},
   "outputs": [
    {
     "data": {
      "text/html": [
       "<div>\n",
       "<style scoped>\n",
       "    .dataframe tbody tr th:only-of-type {\n",
       "        vertical-align: middle;\n",
       "    }\n",
       "\n",
       "    .dataframe tbody tr th {\n",
       "        vertical-align: top;\n",
       "    }\n",
       "\n",
       "    .dataframe thead th {\n",
       "        text-align: right;\n",
       "    }\n",
       "</style>\n",
       "<table border=\"1\" class=\"dataframe\">\n",
       "  <thead>\n",
       "    <tr style=\"text-align: right;\">\n",
       "      <th></th>\n",
       "      <th>% Silica Concentrate</th>\n",
       "    </tr>\n",
       "  </thead>\n",
       "  <tbody>\n",
       "    <tr>\n",
       "      <th>0</th>\n",
       "      <td>1.31</td>\n",
       "    </tr>\n",
       "    <tr>\n",
       "      <th>1</th>\n",
       "      <td>1.31</td>\n",
       "    </tr>\n",
       "    <tr>\n",
       "      <th>2</th>\n",
       "      <td>1.31</td>\n",
       "    </tr>\n",
       "    <tr>\n",
       "      <th>3</th>\n",
       "      <td>1.31</td>\n",
       "    </tr>\n",
       "    <tr>\n",
       "      <th>4</th>\n",
       "      <td>1.31</td>\n",
       "    </tr>\n",
       "  </tbody>\n",
       "</table>\n",
       "</div>"
      ],
      "text/plain": [
       "   % Silica Concentrate\n",
       "0                  1.31\n",
       "1                  1.31\n",
       "2                  1.31\n",
       "3                  1.31\n",
       "4                  1.31"
      ]
     },
     "execution_count": 4,
     "metadata": {},
     "output_type": "execute_result"
    }
   ],
   "source": [
    "Y = data[['% Silica Concentrate']]\n",
    "Y.head()"
   ]
  },
  {
   "cell_type": "code",
   "execution_count": 5,
   "id": "minute-chicken",
   "metadata": {},
   "outputs": [],
   "source": [
    "def normalize_x(X1,X2,X3,X4,X5,X6,X7,X8,X9,X10,X11):\n",
    "    Z = []\n",
    "    x1min, x2min, x3min, x4min, x5min, x6min, x7min, x8min, x9min, x10min, x11min = np.amin(X1), np.amin(X2), np.amin(X3), np.amin(X4), np.amin(X5), np.amin(X6), np.amin(X7), np.amin(X8), np.amin(X9), np.amin(X10), np.amin(X11)\n",
    "    x1max, x2max, x3max, x4max, x5max, x6max, x7max, x8max, x9max, x10max, x11max = np.amax(X1), np.amax(X2), np.amax(X3), np.amax(X4), np.amax(X5), np.amax(X6), np.amax(X7), np.amax(X8), np.amax(X9), np.amax(X10), np.amax(X11)\n",
    "    d1, d2, d3, d4, d5, d6, d7, d8, d9, d10, d11 = x1max-x1min, x2max-x2min, x3max-x3min, x4max-x4min, x5max-x5min, x6max-x6min, x7max-x7min, x8max-x8min, x9max-x9min, x10max-x10min, x11max-x11min\n",
    "    for i in range(len(X1)):\n",
    "        q1 = (X1[i] - x1min)/d1\n",
    "        q2 = (X2[i] - x2min)/d2\n",
    "        q3 = (X3[i] - x3min)/d3\n",
    "        q4 = (X4[i] - x4min)/d4\n",
    "        q5 = (X5[i] - x5min)/d5\n",
    "        q6 = (X6[i] - x6min)/d6\n",
    "        q7 = (X7[i] - x7min)/d7\n",
    "        q8 = (X8[i] - x8min)/d8\n",
    "        q9 = (X9[i] - x9min)/d9\n",
    "        q10 = (X10[i] - x10min)/d10\n",
    "        q11 = (X11[i] - x11min)/d11\n",
    "        Z.append([q1,q2,q3,q4,q5,q6,q7,q8,q9,q10,q11])\n",
    "    Z = np.asarray(Z)\n",
    "    return Z"
   ]
  },
  {
   "cell_type": "code",
   "execution_count": 6,
   "id": "aggregate-glance",
   "metadata": {},
   "outputs": [
    {
     "name": "stdout",
     "output_type": "stream",
     "text": [
      "[[0.54079861 0.48831412 0.47927281 0.6342331  0.45914323 0.63903327\n",
      "  0.6603485  0.41620084 0.40352078 0.42015646 0.51605798]\n",
      " [0.54079861 0.48831412 0.48004739 0.64735101 0.49853746 0.63942261\n",
      "  0.6603485  0.41124086 0.40125811 0.41200273 0.5193476 ]\n",
      " [0.54079861 0.48831412 0.48307109 0.65556401 0.55243914 0.63981195\n",
      "  0.6603485  0.40754319 0.39985037 0.40979942 0.5253939 ]\n",
      " [0.54079861 0.48831412 0.48369011 0.65679124 0.51165314 0.64024996\n",
      "  0.6603485  0.41860815 0.40521136 0.39267319 0.51575125]\n",
      " [0.54079861 0.48831412 0.48152035 0.63570538 0.5662625  0.6406393\n",
      "  0.6603485  0.41238969 0.39914328 0.39414129 0.52769625]]\n"
     ]
    }
   ],
   "source": [
    "Xn = normalize_x(X[['% Iron Feed'][0]], X[['% Silica Feed'][0]], X[['Starch Flow'][0]], X[['Amina Flow'][0]], X[['Ore Pulp Flow'][0]], X[['Ore Pulp pH'][0]], X[['Ore Pulp Density'][0]], X[['Floatation Column Air Flow Mean'][0]], X[['Floatation Column Air Flow Median'][0]], X[['Floatation Column Level Mean'][0]], X[['Floatation Column Level Median'][0]])\n",
    "print(Xn[0:5])"
   ]
  },
  {
   "cell_type": "code",
   "execution_count": 7,
   "id": "searching-transcription",
   "metadata": {},
   "outputs": [],
   "source": [
    "def normalize_y(Y):\n",
    "    Z = []\n",
    "    ymin = np.amin(Y)\n",
    "    ymax = np.amax(Y)\n",
    "    d = ymax - ymin\n",
    "    for i in range(len(Y)):\n",
    "        Z.append((Y[i] - ymin)/d)\n",
    "    Z = np.asarray(Z)\n",
    "    return Z"
   ]
  },
  {
   "cell_type": "code",
   "execution_count": 8,
   "id": "funded-english",
   "metadata": {},
   "outputs": [
    {
     "name": "stdout",
     "output_type": "stream",
     "text": [
      "[0.14401623 0.14401623 0.14401623 0.14401623 0.14401623]\n"
     ]
    }
   ],
   "source": [
    "Yn = normalize_y(Y[['% Silica Concentrate'][0]])\n",
    "print(Yn[0:5])"
   ]
  },
  {
   "cell_type": "code",
   "execution_count": 9,
   "id": "elect-encounter",
   "metadata": {},
   "outputs": [],
   "source": [
    "X_train, X_test, Y_train, Y_test =  train_test_split(Xn, Yn, test_size=0.20, shuffle=True)"
   ]
  },
  {
   "cell_type": "code",
   "execution_count": 10,
   "id": "surprising-reputation",
   "metadata": {},
   "outputs": [
    {
     "name": "stdout",
     "output_type": "stream",
     "text": [
      "X_train shape is: (589962, 1, 11), X_test shape is: (147491, 1, 11), Y_train shape is: (589962,), Y_test shape is: (147491,)\n"
     ]
    }
   ],
   "source": [
    "# reshaping X to [samples, timestamps, features]\n",
    "X_train = X_train.reshape((X_train.shape[0], 1, X_train.shape[1]))\n",
    "X_test = X_test.reshape((X_test.shape[0], 1, X_test.shape[1]))\n",
    "print(f\"X_train shape is: {X_train.shape}, X_test shape is: {X_test.shape}, Y_train shape is: {Y_train.shape}, Y_test shape is: {Y_test.shape}\")"
   ]
  },
  {
   "cell_type": "markdown",
   "id": "efficient-quantity",
   "metadata": {},
   "source": [
    "## Training and Testing RNN Network (Using LSTM Layers)"
   ]
  },
  {
   "cell_type": "code",
   "execution_count": 11,
   "id": "automatic-phoenix",
   "metadata": {},
   "outputs": [
    {
     "name": "stdout",
     "output_type": "stream",
     "text": [
      "Model: \"sequential\"\n",
      "_________________________________________________________________\n",
      " Layer (type)                Output Shape              Param #   \n",
      "=================================================================\n",
      " lstm (LSTM)                 (None, 1, 64)             19456     \n",
      "                                                                 \n",
      " lstm_1 (LSTM)               (None, 32)                12416     \n",
      "                                                                 \n",
      " dense (Dense)               (None, 16)                528       \n",
      "                                                                 \n",
      " dense_1 (Dense)             (None, 1)                 17        \n",
      "                                                                 \n",
      "=================================================================\n",
      "Total params: 32,417\n",
      "Trainable params: 32,417\n",
      "Non-trainable params: 0\n",
      "_________________________________________________________________\n",
      "None\n"
     ]
    }
   ],
   "source": [
    "M = Sequential()\n",
    "M.add(LSTM(64, input_shape=(X_train.shape[1],X_train.shape[2]), return_sequences=True))\n",
    "M.add(LSTM(32))\n",
    "M.add(Dense(16, activation='relu'))\n",
    "M.add(Dense(1))\n",
    "\n",
    "print(M.summary())"
   ]
  },
  {
   "cell_type": "code",
   "execution_count": 12,
   "id": "positive-maria",
   "metadata": {},
   "outputs": [],
   "source": [
    "Ymax = np.amax(Y[['% Silica Concentrate'][0]]) \n",
    "Ymin = np.amin(Y[['% Silica Concentrate'][0]])\n",
    "D = Ymax - Ymin"
   ]
  },
  {
   "cell_type": "code",
   "execution_count": 13,
   "id": "attractive-institution",
   "metadata": {},
   "outputs": [],
   "source": [
    "def rev_normalize(pr):\n",
    "    Z = []\n",
    "    for i in range(len(pr)):\n",
    "        Z.append((pr[i]*D)+Ymin)\n",
    "    Z = np.asarray(Z)\n",
    "    return Z"
   ]
  },
  {
   "cell_type": "code",
   "execution_count": 14,
   "id": "different-brooklyn",
   "metadata": {},
   "outputs": [
    {
     "name": "stdout",
     "output_type": "stream",
     "text": [
      "Epoch 1/15\n",
      "944/944 [==============================] - 12s 8ms/step - loss: 0.1675 - mean_squared_error: 0.0518 - val_loss: 0.1610 - val_mean_squared_error: 0.0491\n",
      "Epoch 2/15\n",
      "944/944 [==============================] - 7s 7ms/step - loss: 0.1596 - mean_squared_error: 0.0471 - val_loss: 0.1585 - val_mean_squared_error: 0.0451\n",
      "Epoch 3/15\n",
      "944/944 [==============================] - 6s 7ms/step - loss: 0.1572 - mean_squared_error: 0.0458 - val_loss: 0.1555 - val_mean_squared_error: 0.0456\n",
      "Epoch 4/15\n",
      "944/944 [==============================] - 6s 7ms/step - loss: 0.1546 - mean_squared_error: 0.0448 - val_loss: 0.1522 - val_mean_squared_error: 0.0439\n",
      "Epoch 5/15\n",
      "944/944 [==============================] - 6s 7ms/step - loss: 0.1511 - mean_squared_error: 0.0436 - val_loss: 0.1490 - val_mean_squared_error: 0.0427\n",
      "Epoch 6/15\n",
      "944/944 [==============================] - 6s 7ms/step - loss: 0.1479 - mean_squared_error: 0.0424 - val_loss: 0.1459 - val_mean_squared_error: 0.0411\n",
      "Epoch 7/15\n",
      "944/944 [==============================] - 6s 7ms/step - loss: 0.1455 - mean_squared_error: 0.0414 - val_loss: 0.1437 - val_mean_squared_error: 0.0411\n",
      "Epoch 8/15\n",
      "944/944 [==============================] - 6s 7ms/step - loss: 0.1438 - mean_squared_error: 0.0406 - val_loss: 0.1424 - val_mean_squared_error: 0.0407\n",
      "Epoch 9/15\n",
      "944/944 [==============================] - 7s 7ms/step - loss: 0.1421 - mean_squared_error: 0.0399 - val_loss: 0.1408 - val_mean_squared_error: 0.0395\n",
      "Epoch 10/15\n",
      "944/944 [==============================] - 7s 7ms/step - loss: 0.1406 - mean_squared_error: 0.0392 - val_loss: 0.1401 - val_mean_squared_error: 0.0396\n",
      "Epoch 11/15\n",
      "944/944 [==============================] - 7s 7ms/step - loss: 0.1392 - mean_squared_error: 0.0386 - val_loss: 0.1385 - val_mean_squared_error: 0.0371\n",
      "Epoch 12/15\n",
      "944/944 [==============================] - 7s 7ms/step - loss: 0.1380 - mean_squared_error: 0.0379 - val_loss: 0.1377 - val_mean_squared_error: 0.0372\n",
      "Epoch 13/15\n",
      "944/944 [==============================] - 7s 7ms/step - loss: 0.1366 - mean_squared_error: 0.0373 - val_loss: 0.1363 - val_mean_squared_error: 0.0373\n",
      "Epoch 14/15\n",
      "944/944 [==============================] - 7s 7ms/step - loss: 0.1356 - mean_squared_error: 0.0368 - val_loss: 0.1354 - val_mean_squared_error: 0.0367\n",
      "Epoch 15/15\n",
      "944/944 [==============================] - 8s 8ms/step - loss: 0.1346 - mean_squared_error: 0.0364 - val_loss: 0.1342 - val_mean_squared_error: 0.0353\n"
     ]
    }
   ],
   "source": [
    "M.compile(loss='mean_absolute_error', optimizer='adam', metrics=['mean_squared_error'])\n",
    "h = M.fit(X_train, Y_train, epochs=15, batch_size=500, verbose=1, validation_split=0.2)"
   ]
  },
  {
   "cell_type": "code",
   "execution_count": 15,
   "id": "turkish-bouquet",
   "metadata": {},
   "outputs": [
    {
     "name": "stdout",
     "output_type": "stream",
     "text": [
      "Accuracy is: 0.1347445813776819\n",
      "Predictions:\n",
      "[[1.7704066]\n",
      " [3.427493 ]\n",
      " [2.2337966]\n",
      " [1.5383399]\n",
      " [2.2426994]\n",
      " [1.7622743]\n",
      " [2.5662723]\n",
      " [3.6057725]\n",
      " [2.5390034]\n",
      " [3.2132602]\n",
      " [2.8610191]\n",
      " [1.074505 ]\n",
      " [1.7776906]\n",
      " [2.3089938]\n",
      " [1.3357449]\n",
      " [1.8226047]\n",
      " [1.4329405]\n",
      " [2.1281722]\n",
      " [2.0673943]\n",
      " [3.7522182]]\n",
      "Expected values:\n",
      "[1.62       3.1        2.35       1.4        3.12       4.32\n",
      " 3.52       4.40188366 1.21       1.48       1.72       1.08\n",
      " 1.62       1.98       2.97       2.1        1.67       2.4\n",
      " 1.62       3.8255071 ]\n"
     ]
    }
   ],
   "source": [
    "import sklearn.metrics as metrics\n",
    "\n",
    "p = M.predict(X_test)\n",
    "P = rev_normalize(p)\n",
    "\n",
    "yt = rev_normalize(Y_test)\n",
    "\n",
    "# Accuracy evaluation\n",
    "A = sklearn.metrics.mean_absolute_error(Y_test, p)           # Best possibe result would be 0.0\n",
    "print(\"Accuracy is:\", A)\n",
    "\n",
    "np.set_printoptions(suppress=True)\n",
    "\n",
    "# Printing results\n",
    "print(\"Predictions:\")\n",
    "print(P[0:20])\n",
    "print(\"Expected values:\")\n",
    "print(yt[0:20])"
   ]
  },
  {
   "cell_type": "markdown",
   "id": "lined-reputation",
   "metadata": {},
   "source": [
    "## Plotting Some Results"
   ]
  },
  {
   "cell_type": "code",
   "execution_count": 18,
   "id": "incorporated-female",
   "metadata": {},
   "outputs": [
    {
     "data": {
      "text/plain": [
       "<Figure size 2160x1440 with 0 Axes>"
      ]
     },
     "execution_count": 18,
     "metadata": {},
     "output_type": "execute_result"
    },
    {
     "data": {
      "image/png": "[encoded data removed]",
      "text/plain": [
       "<Figure size 432x288 with 1 Axes>"
      ]
     },
     "metadata": {
      "needs_background": "light"
     },
     "output_type": "display_data"
    },
    {
     "data": {
      "text/plain": [
       "<Figure size 2160x1440 with 0 Axes>"
      ]
     },
     "metadata": {},
     "output_type": "display_data"
    }
   ],
   "source": [
    "L = range(100)\n",
    "ylabels = []\n",
    "for i in range(math.floor(np.amin(yt)-3),math.ceil(np.amax(yt)+3),1):\n",
    "    ylabels.append(i)\n",
    "plt.yticks(ylabels,ylabels)\n",
    "plt.plot(L, P[0:100], 'r', label=\"Predictions\")\n",
    "plt.plot(L, yt[0:100], 'b', label=\"Expected Values\")\n",
    "plt.title('Predictions vs Expected Values comparison for first 100 values')\n",
    "plt.legend(loc='best')\n",
    "plt.figure(figsize=(30,20))"
   ]
  },
  {
   "cell_type": "code",
   "execution_count": 19,
   "id": "retained-istanbul",
   "metadata": {},
   "outputs": [
    {
     "data": {
      "text/plain": [
       "<Figure size 2160x1440 with 0 Axes>"
      ]
     },
     "execution_count": 19,
     "metadata": {},
     "output_type": "execute_result"
    },
    {
     "data": {
      "image/png": "[encoded data removed]",
      "text/plain": [
       "<Figure size 432x288 with 1 Axes>"
      ]
     },
     "metadata": {
      "needs_background": "light"
     },
     "output_type": "display_data"
    },
    {
     "data": {
      "text/plain": [
       "<Figure size 2160x1440 with 0 Axes>"
      ]
     },
     "metadata": {},
     "output_type": "display_data"
    }
   ],
   "source": [
    "L = range(40)\n",
    "ylabels = []\n",
    "for i in range(math.floor(np.amin(yt)-3),math.ceil(np.amax(yt)+3),1):\n",
    "    ylabels.append(i)\n",
    "plt.yticks(ylabels,ylabels)\n",
    "plt.plot(L, P[0:40], 'r', label=\"Predictions\")\n",
    "plt.plot(L, yt[0:40], 'b', label=\"Expected Values\")\n",
    "plt.title('Predictions vs Expected Values comparison for first 20 values')\n",
    "plt.legend(loc='best')\n",
    "plt.figure(figsize=(30,20))"
   ]
  }
 ],
 "metadata": {
  "kernelspec": {
   "display_name": "Python 3",
   "language": "python",
   "name": "python3"
  },
  "language_info": {
   "codemirror_mode": {
    "name": "ipython",
    "version": 3
   },
   "file_extension": ".py",
   "mimetype": "text/x-python",
   "name": "python",
   "nbconvert_exporter": "python",
   "pygments_lexer": "ipython3",
   "version": "3.8.3"
  }
 },
 "nbformat": 4,
 "nbformat_minor": 5
}
