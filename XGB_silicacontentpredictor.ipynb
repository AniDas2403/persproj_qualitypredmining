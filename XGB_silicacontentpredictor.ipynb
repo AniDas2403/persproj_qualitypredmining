{
 "cells": [
  {
   "cell_type": "markdown",
   "id": "metric-knitting",
   "metadata": {},
   "source": [
    "## Importing Libraries"
   ]
  },
  {
   "cell_type": "code",
   "execution_count": 1,
   "id": "binary-hurricane",
   "metadata": {},
   "outputs": [],
   "source": [
    "from keras.models import Sequential\n",
    "from keras.layers import Dense\n",
    "import numpy as np\n",
    "import numpy as np\n",
    "import pandas as pd\n",
    "import keras\n",
    "import tensorflow as tf\n",
    "import matplotlib.pyplot as plt\n",
    "from matplotlib import style\n",
    "import sklearn\n",
    "from sklearn.model_selection import train_test_split\n",
    "from sklearn.preprocessing import MinMaxScaler\n",
    "from sklearn import preprocessing, svm, metrics\n",
    "import math\n",
    "from keras import metrics\n",
    "from sklearn.ensemble import RandomForestRegressor\n",
    "from sklearn.metrics import accuracy_score\n",
    "from sklearn.metrics import confusion_matrix\n",
    "import xgboost as xgb"
   ]
  },
  {
   "cell_type": "markdown",
   "id": "public-monroe",
   "metadata": {},
   "source": [
    "## Importing Data and Finalizing X (Feature Set) and Y (Outout Set)"
   ]
  },
  {
   "cell_type": "code",
   "execution_count": 2,
   "id": "powered-reply",
   "metadata": {},
   "outputs": [
    {
     "data": {
      "text/html": [
       "<div>\n",
       "<style scoped>\n",
       "    .dataframe tbody tr th:only-of-type {\n",
       "        vertical-align: middle;\n",
       "    }\n",
       "\n",
       "    .dataframe tbody tr th {\n",
       "        vertical-align: top;\n",
       "    }\n",
       "\n",
       "    .dataframe thead th {\n",
       "        text-align: right;\n",
       "    }\n",
       "</style>\n",
       "<table border=\"1\" class=\"dataframe\">\n",
       "  <thead>\n",
       "    <tr style=\"text-align: right;\">\n",
       "      <th></th>\n",
       "      <th>Unnamed: 0</th>\n",
       "      <th>% Iron Feed</th>\n",
       "      <th>% Silica Feed</th>\n",
       "      <th>Starch Flow</th>\n",
       "      <th>Amina Flow</th>\n",
       "      <th>Ore Pulp Flow</th>\n",
       "      <th>Ore Pulp pH</th>\n",
       "      <th>Ore Pulp Density</th>\n",
       "      <th>Floatation Column Air Flow Mean</th>\n",
       "      <th>Floatation Column Air Flow Median</th>\n",
       "      <th>Floatation Column Level Mean</th>\n",
       "      <th>Floatation Column Level Median</th>\n",
       "      <th>% Iron Concentrate</th>\n",
       "      <th>% Silica Concentrate</th>\n",
       "    </tr>\n",
       "  </thead>\n",
       "  <tbody>\n",
       "    <tr>\n",
       "      <th>0</th>\n",
       "      <td>0</td>\n",
       "      <td>55.2</td>\n",
       "      <td>16.98</td>\n",
       "      <td>3019.53</td>\n",
       "      <td>557.434</td>\n",
       "      <td>395.713</td>\n",
       "      <td>10.0664</td>\n",
       "      <td>1.74</td>\n",
       "      <td>265.090000</td>\n",
       "      <td>250.884</td>\n",
       "      <td>461.548429</td>\n",
       "      <td>446.370</td>\n",
       "      <td>66.91</td>\n",
       "      <td>1.31</td>\n",
       "    </tr>\n",
       "    <tr>\n",
       "      <th>1</th>\n",
       "      <td>1</td>\n",
       "      <td>55.2</td>\n",
       "      <td>16.98</td>\n",
       "      <td>3024.41</td>\n",
       "      <td>563.965</td>\n",
       "      <td>397.383</td>\n",
       "      <td>10.0672</td>\n",
       "      <td>1.74</td>\n",
       "      <td>264.534286</td>\n",
       "      <td>250.532</td>\n",
       "      <td>457.548000</td>\n",
       "      <td>448.086</td>\n",
       "      <td>66.91</td>\n",
       "      <td>1.31</td>\n",
       "    </tr>\n",
       "    <tr>\n",
       "      <th>2</th>\n",
       "      <td>2</td>\n",
       "      <td>55.2</td>\n",
       "      <td>16.98</td>\n",
       "      <td>3043.46</td>\n",
       "      <td>568.054</td>\n",
       "      <td>399.668</td>\n",
       "      <td>10.0680</td>\n",
       "      <td>1.74</td>\n",
       "      <td>264.120000</td>\n",
       "      <td>250.313</td>\n",
       "      <td>456.467000</td>\n",
       "      <td>451.240</td>\n",
       "      <td>66.91</td>\n",
       "      <td>1.31</td>\n",
       "    </tr>\n",
       "    <tr>\n",
       "      <th>3</th>\n",
       "      <td>3</td>\n",
       "      <td>55.2</td>\n",
       "      <td>16.98</td>\n",
       "      <td>3047.36</td>\n",
       "      <td>568.665</td>\n",
       "      <td>397.939</td>\n",
       "      <td>10.0689</td>\n",
       "      <td>1.74</td>\n",
       "      <td>265.359714</td>\n",
       "      <td>251.147</td>\n",
       "      <td>448.064429</td>\n",
       "      <td>446.210</td>\n",
       "      <td>66.91</td>\n",
       "      <td>1.31</td>\n",
       "    </tr>\n",
       "    <tr>\n",
       "      <th>4</th>\n",
       "      <td>4</td>\n",
       "      <td>55.2</td>\n",
       "      <td>16.98</td>\n",
       "      <td>3033.69</td>\n",
       "      <td>558.167</td>\n",
       "      <td>400.254</td>\n",
       "      <td>10.0697</td>\n",
       "      <td>1.74</td>\n",
       "      <td>264.663000</td>\n",
       "      <td>250.203</td>\n",
       "      <td>448.784714</td>\n",
       "      <td>452.441</td>\n",
       "      <td>66.91</td>\n",
       "      <td>1.31</td>\n",
       "    </tr>\n",
       "  </tbody>\n",
       "</table>\n",
       "</div>"
      ],
      "text/plain": [
       "   Unnamed: 0  % Iron Feed  % Silica Feed  Starch Flow  Amina Flow  \\\n",
       "0           0         55.2          16.98      3019.53     557.434   \n",
       "1           1         55.2          16.98      3024.41     563.965   \n",
       "2           2         55.2          16.98      3043.46     568.054   \n",
       "3           3         55.2          16.98      3047.36     568.665   \n",
       "4           4         55.2          16.98      3033.69     558.167   \n",
       "\n",
       "   Ore Pulp Flow  Ore Pulp pH  Ore Pulp Density  \\\n",
       "0        395.713      10.0664              1.74   \n",
       "1        397.383      10.0672              1.74   \n",
       "2        399.668      10.0680              1.74   \n",
       "3        397.939      10.0689              1.74   \n",
       "4        400.254      10.0697              1.74   \n",
       "\n",
       "   Floatation Column Air Flow Mean  Floatation Column Air Flow Median  \\\n",
       "0                       265.090000                            250.884   \n",
       "1                       264.534286                            250.532   \n",
       "2                       264.120000                            250.313   \n",
       "3                       265.359714                            251.147   \n",
       "4                       264.663000                            250.203   \n",
       "\n",
       "   Floatation Column Level Mean  Floatation Column Level Median  \\\n",
       "0                    461.548429                         446.370   \n",
       "1                    457.548000                         448.086   \n",
       "2                    456.467000                         451.240   \n",
       "3                    448.064429                         446.210   \n",
       "4                    448.784714                         452.441   \n",
       "\n",
       "   % Iron Concentrate  % Silica Concentrate  \n",
       "0               66.91                  1.31  \n",
       "1               66.91                  1.31  \n",
       "2               66.91                  1.31  \n",
       "3               66.91                  1.31  \n",
       "4               66.91                  1.31  "
      ]
     },
     "execution_count": 2,
     "metadata": {},
     "output_type": "execute_result"
    }
   ],
   "source": [
    "data = pd.read_csv('./miningdata.csv', index_col=False)\n",
    "data.head()"
   ]
  },
  {
   "cell_type": "code",
   "execution_count": 3,
   "id": "increasing-detail",
   "metadata": {},
   "outputs": [
    {
     "data": {
      "text/html": [
       "<div>\n",
       "<style scoped>\n",
       "    .dataframe tbody tr th:only-of-type {\n",
       "        vertical-align: middle;\n",
       "    }\n",
       "\n",
       "    .dataframe tbody tr th {\n",
       "        vertical-align: top;\n",
       "    }\n",
       "\n",
       "    .dataframe thead th {\n",
       "        text-align: right;\n",
       "    }\n",
       "</style>\n",
       "<table border=\"1\" class=\"dataframe\">\n",
       "  <thead>\n",
       "    <tr style=\"text-align: right;\">\n",
       "      <th></th>\n",
       "      <th>% Iron Feed</th>\n",
       "      <th>% Silica Feed</th>\n",
       "      <th>Starch Flow</th>\n",
       "      <th>Amina Flow</th>\n",
       "      <th>Ore Pulp Flow</th>\n",
       "      <th>Ore Pulp pH</th>\n",
       "      <th>Ore Pulp Density</th>\n",
       "      <th>Floatation Column Air Flow Mean</th>\n",
       "      <th>Floatation Column Air Flow Median</th>\n",
       "      <th>Floatation Column Level Mean</th>\n",
       "      <th>Floatation Column Level Median</th>\n",
       "    </tr>\n",
       "  </thead>\n",
       "  <tbody>\n",
       "    <tr>\n",
       "      <th>0</th>\n",
       "      <td>55.2</td>\n",
       "      <td>16.98</td>\n",
       "      <td>3019.53</td>\n",
       "      <td>557.434</td>\n",
       "      <td>395.713</td>\n",
       "      <td>10.0664</td>\n",
       "      <td>1.74</td>\n",
       "      <td>265.090000</td>\n",
       "      <td>250.884</td>\n",
       "      <td>461.548429</td>\n",
       "      <td>446.370</td>\n",
       "    </tr>\n",
       "    <tr>\n",
       "      <th>1</th>\n",
       "      <td>55.2</td>\n",
       "      <td>16.98</td>\n",
       "      <td>3024.41</td>\n",
       "      <td>563.965</td>\n",
       "      <td>397.383</td>\n",
       "      <td>10.0672</td>\n",
       "      <td>1.74</td>\n",
       "      <td>264.534286</td>\n",
       "      <td>250.532</td>\n",
       "      <td>457.548000</td>\n",
       "      <td>448.086</td>\n",
       "    </tr>\n",
       "    <tr>\n",
       "      <th>2</th>\n",
       "      <td>55.2</td>\n",
       "      <td>16.98</td>\n",
       "      <td>3043.46</td>\n",
       "      <td>568.054</td>\n",
       "      <td>399.668</td>\n",
       "      <td>10.0680</td>\n",
       "      <td>1.74</td>\n",
       "      <td>264.120000</td>\n",
       "      <td>250.313</td>\n",
       "      <td>456.467000</td>\n",
       "      <td>451.240</td>\n",
       "    </tr>\n",
       "    <tr>\n",
       "      <th>3</th>\n",
       "      <td>55.2</td>\n",
       "      <td>16.98</td>\n",
       "      <td>3047.36</td>\n",
       "      <td>568.665</td>\n",
       "      <td>397.939</td>\n",
       "      <td>10.0689</td>\n",
       "      <td>1.74</td>\n",
       "      <td>265.359714</td>\n",
       "      <td>251.147</td>\n",
       "      <td>448.064429</td>\n",
       "      <td>446.210</td>\n",
       "    </tr>\n",
       "    <tr>\n",
       "      <th>4</th>\n",
       "      <td>55.2</td>\n",
       "      <td>16.98</td>\n",
       "      <td>3033.69</td>\n",
       "      <td>558.167</td>\n",
       "      <td>400.254</td>\n",
       "      <td>10.0697</td>\n",
       "      <td>1.74</td>\n",
       "      <td>264.663000</td>\n",
       "      <td>250.203</td>\n",
       "      <td>448.784714</td>\n",
       "      <td>452.441</td>\n",
       "    </tr>\n",
       "  </tbody>\n",
       "</table>\n",
       "</div>"
      ],
      "text/plain": [
       "   % Iron Feed  % Silica Feed  Starch Flow  Amina Flow  Ore Pulp Flow  \\\n",
       "0         55.2          16.98      3019.53     557.434        395.713   \n",
       "1         55.2          16.98      3024.41     563.965        397.383   \n",
       "2         55.2          16.98      3043.46     568.054        399.668   \n",
       "3         55.2          16.98      3047.36     568.665        397.939   \n",
       "4         55.2          16.98      3033.69     558.167        400.254   \n",
       "\n",
       "   Ore Pulp pH  Ore Pulp Density  Floatation Column Air Flow Mean  \\\n",
       "0      10.0664              1.74                       265.090000   \n",
       "1      10.0672              1.74                       264.534286   \n",
       "2      10.0680              1.74                       264.120000   \n",
       "3      10.0689              1.74                       265.359714   \n",
       "4      10.0697              1.74                       264.663000   \n",
       "\n",
       "   Floatation Column Air Flow Median  Floatation Column Level Mean  \\\n",
       "0                            250.884                    461.548429   \n",
       "1                            250.532                    457.548000   \n",
       "2                            250.313                    456.467000   \n",
       "3                            251.147                    448.064429   \n",
       "4                            250.203                    448.784714   \n",
       "\n",
       "   Floatation Column Level Median  \n",
       "0                         446.370  \n",
       "1                         448.086  \n",
       "2                         451.240  \n",
       "3                         446.210  \n",
       "4                         452.441  "
      ]
     },
     "execution_count": 3,
     "metadata": {},
     "output_type": "execute_result"
    }
   ],
   "source": [
    "X = data[['% Iron Feed', '% Silica Feed', 'Starch Flow', 'Amina Flow', 'Ore Pulp Flow', 'Ore Pulp pH', 'Ore Pulp Density', 'Floatation Column Air Flow Mean', 'Floatation Column Air Flow Median', 'Floatation Column Level Mean', 'Floatation Column Level Median']]\n",
    "X.head()"
   ]
  },
  {
   "cell_type": "code",
   "execution_count": 4,
   "id": "considered-lyric",
   "metadata": {},
   "outputs": [
    {
     "data": {
      "text/html": [
       "<div>\n",
       "<style scoped>\n",
       "    .dataframe tbody tr th:only-of-type {\n",
       "        vertical-align: middle;\n",
       "    }\n",
       "\n",
       "    .dataframe tbody tr th {\n",
       "        vertical-align: top;\n",
       "    }\n",
       "\n",
       "    .dataframe thead th {\n",
       "        text-align: right;\n",
       "    }\n",
       "</style>\n",
       "<table border=\"1\" class=\"dataframe\">\n",
       "  <thead>\n",
       "    <tr style=\"text-align: right;\">\n",
       "      <th></th>\n",
       "      <th>% Silica Concentrate</th>\n",
       "    </tr>\n",
       "  </thead>\n",
       "  <tbody>\n",
       "    <tr>\n",
       "      <th>0</th>\n",
       "      <td>1.31</td>\n",
       "    </tr>\n",
       "    <tr>\n",
       "      <th>1</th>\n",
       "      <td>1.31</td>\n",
       "    </tr>\n",
       "    <tr>\n",
       "      <th>2</th>\n",
       "      <td>1.31</td>\n",
       "    </tr>\n",
       "    <tr>\n",
       "      <th>3</th>\n",
       "      <td>1.31</td>\n",
       "    </tr>\n",
       "    <tr>\n",
       "      <th>4</th>\n",
       "      <td>1.31</td>\n",
       "    </tr>\n",
       "  </tbody>\n",
       "</table>\n",
       "</div>"
      ],
      "text/plain": [
       "   % Silica Concentrate\n",
       "0                  1.31\n",
       "1                  1.31\n",
       "2                  1.31\n",
       "3                  1.31\n",
       "4                  1.31"
      ]
     },
     "execution_count": 4,
     "metadata": {},
     "output_type": "execute_result"
    }
   ],
   "source": [
    "Y = data[['% Silica Concentrate']]\n",
    "Y.head()"
   ]
  },
  {
   "cell_type": "code",
   "execution_count": 5,
   "id": "square-august",
   "metadata": {},
   "outputs": [],
   "source": [
    "def normalize_x(X1,X2,X3,X4,X5,X6,X7,X8,X9,X10,X11):\n",
    "    Z = []\n",
    "    x1min, x2min, x3min, x4min, x5min, x6min, x7min, x8min, x9min, x10min, x11min = np.amin(X1), np.amin(X2), np.amin(X3), np.amin(X4), np.amin(X5), np.amin(X6), np.amin(X7), np.amin(X8), np.amin(X9), np.amin(X10), np.amin(X11)\n",
    "    x1max, x2max, x3max, x4max, x5max, x6max, x7max, x8max, x9max, x10max, x11max = np.amax(X1), np.amax(X2), np.amax(X3), np.amax(X4), np.amax(X5), np.amax(X6), np.amax(X7), np.amax(X8), np.amax(X9), np.amax(X10), np.amax(X11)\n",
    "    d1, d2, d3, d4, d5, d6, d7, d8, d9, d10, d11 = x1max-x1min, x2max-x2min, x3max-x3min, x4max-x4min, x5max-x5min, x6max-x6min, x7max-x7min, x8max-x8min, x9max-x9min, x10max-x10min, x11max-x11min\n",
    "    for i in range(len(X1)):\n",
    "        q1 = (X1[i] - x1min)/d1\n",
    "        q2 = (X2[i] - x2min)/d2\n",
    "        q3 = (X3[i] - x3min)/d3\n",
    "        q4 = (X4[i] - x4min)/d4\n",
    "        q5 = (X5[i] - x5min)/d5\n",
    "        q6 = (X6[i] - x6min)/d6\n",
    "        q7 = (X7[i] - x7min)/d7\n",
    "        q8 = (X8[i] - x8min)/d8\n",
    "        q9 = (X9[i] - x9min)/d9\n",
    "        q10 = (X10[i] - x10min)/d10\n",
    "        q11 = (X11[i] - x11min)/d11\n",
    "        Z.append([q1,q2,q3,q4,q5,q6,q7,q8,q9,q10,q11])\n",
    "    return Z"
   ]
  },
  {
   "cell_type": "code",
   "execution_count": 6,
   "id": "northern-occasions",
   "metadata": {},
   "outputs": [
    {
     "name": "stdout",
     "output_type": "stream",
     "text": [
      "[[0.5407986111111112, 0.488314116547211, 0.47927281147315975, 0.6342331014785013, 0.4591432345725609, 0.6390332690922542, 0.6603484989353087, 0.41620083876360986, 0.40352078254717494, 0.42015645510365124, 0.5160579785714697], [0.5407986111111112, 0.488314116547211, 0.48004738661871127, 0.6473510100046398, 0.498537459898093, 0.6394226089664974, 0.6603484989353087, 0.41124086257384707, 0.4012581092623228, 0.41200272951110245, 0.5193475972939244], [0.5407986111111112, 0.488314116547211, 0.48307108672583365, 0.6555640138269303, 0.5524391394602751, 0.6398119488407406, 0.6603484989353087, 0.40754319394908806, 0.3998503665083946, 0.4097994212384596, 0.5253939011695784], [0.5407986111111112, 0.488314116547211, 0.4836901119446146, 0.6567912442831346, 0.5116531421022834, 0.640249956199264, 0.6603484989353087, 0.4186081485441429, 0.40521135946170955, 0.3926731907666339, 0.5157512542150636], [0.5407986111111112, 0.488314116547211, 0.4815203491905798, 0.6357053763138497, 0.5662625023589356, 0.6406392960735071, 0.6603484989353087, 0.4123896899638154, 0.39914328110687836, 0.39414128648629365, 0.5276962508698511]]\n"
     ]
    }
   ],
   "source": [
    "Xn = normalize_x(X[['% Iron Feed'][0]], X[['% Silica Feed'][0]], X[['Starch Flow'][0]], X[['Amina Flow'][0]], X[['Ore Pulp Flow'][0]], X[['Ore Pulp pH'][0]], X[['Ore Pulp Density'][0]], X[['Floatation Column Air Flow Mean'][0]], X[['Floatation Column Air Flow Median'][0]], X[['Floatation Column Level Mean'][0]], X[['Floatation Column Level Median'][0]])\n",
    "print(Xn[0:5])"
   ]
  },
  {
   "cell_type": "code",
   "execution_count": 7,
   "id": "assured-midnight",
   "metadata": {},
   "outputs": [],
   "source": [
    "def normalize_y(Y):\n",
    "    Z = []\n",
    "    ymin = np.amin(Y)\n",
    "    ymax = np.amax(Y)\n",
    "    d = ymax - ymin\n",
    "    for i in range(len(Y)):\n",
    "        Z.append((Y[i] - ymin)/d)\n",
    "    return Z"
   ]
  },
  {
   "cell_type": "code",
   "execution_count": 8,
   "id": "capable-underground",
   "metadata": {},
   "outputs": [
    {
     "name": "stdout",
     "output_type": "stream",
     "text": [
      "[0.14401622718052737, 0.14401622718052737, 0.14401622718052737, 0.14401622718052737, 0.14401622718052737]\n"
     ]
    }
   ],
   "source": [
    "Yn = normalize_y(Y[['% Silica Concentrate'][0]])\n",
    "print(Yn[0:5])"
   ]
  },
  {
   "cell_type": "code",
   "execution_count": 9,
   "id": "hollow-controversy",
   "metadata": {},
   "outputs": [],
   "source": [
    "X_train, X_test, Y_train, Y_test =  train_test_split(Xn, Yn, test_size=0.20, shuffle=True)"
   ]
  },
  {
   "cell_type": "markdown",
   "id": "acknowledged-conservation",
   "metadata": {},
   "source": [
    "## Training and Testing eXtreme Gradient Boost(XGB) Model "
   ]
  },
  {
   "cell_type": "code",
   "execution_count": 10,
   "id": "eleven-participation",
   "metadata": {},
   "outputs": [
    {
     "data": {
      "text/plain": [
       "XGBRegressor(base_score=0.5, booster='gbtree', colsample_bylevel=1,\n",
       "             colsample_bynode=1, colsample_bytree=1, enable_categorical=False,\n",
       "             gamma=0, gpu_id=-1, importance_type=None,\n",
       "             interaction_constraints='', learning_rate=0.300000012,\n",
       "             max_delta_step=0, max_depth=6, min_child_weight=1, missing=nan,\n",
       "             monotone_constraints='()', n_estimators=100, n_jobs=4,\n",
       "             num_parallel_tree=1, predictor='auto', random_state=0, reg_alpha=0,\n",
       "             reg_lambda=1, scale_pos_weight=1, subsample=1, tree_method='exact',\n",
       "             validate_parameters=1, verbosity=None)"
      ]
     },
     "execution_count": 10,
     "metadata": {},
     "output_type": "execute_result"
    }
   ],
   "source": [
    "xgbr = xgb.XGBRegressor()\n",
    "xgbr.fit(X_train, Y_train)"
   ]
  },
  {
   "cell_type": "code",
   "execution_count": 11,
   "id": "universal-scale",
   "metadata": {},
   "outputs": [],
   "source": [
    "Ymax = np.amax(Y[['% Silica Concentrate'][0]]) \n",
    "Ymin = np.amin(Y[['% Silica Concentrate'][0]])\n",
    "D = Ymax - Ymin"
   ]
  },
  {
   "cell_type": "code",
   "execution_count": 12,
   "id": "minimal-registration",
   "metadata": {},
   "outputs": [],
   "source": [
    "def rev_normalize(pr):\n",
    "    Z = []\n",
    "    for i in range(len(pr)):\n",
    "        Z.append((pr[i]*D)+Ymin)\n",
    "    Z = np.asarray(Z)\n",
    "    return Z"
   ]
  },
  {
   "cell_type": "code",
   "execution_count": 13,
   "id": "divided-final",
   "metadata": {},
   "outputs": [
    {
     "name": "stdout",
     "output_type": "stream",
     "text": [
      "Accuracy is: 0.08982259334461004\n",
      "Predictions:\n",
      "[1.72653825 2.57225612 1.63343218 2.67218232 1.79520496 2.62070464\n",
      " 1.7581818  4.75809013 3.95575669 2.49132444 1.50639735 1.78997456\n",
      " 2.00460553 1.9496084  2.7509182  2.23512642 2.21340085 3.14857972\n",
      " 3.19847266 2.42152192]\n",
      "Expected values:\n",
      "[1.16 2.78 1.14 3.27 1.8  3.12 1.21 4.96 4.39 2.94 1.8  1.41 1.06 1.62\n",
      " 3.11 2.42 3.22 3.58 5.05 1.3 ]\n"
     ]
    }
   ],
   "source": [
    "import sklearn.metrics as metrics\n",
    "\n",
    "p = xgbr.predict(X_test)\n",
    "P = rev_normalize(p)\n",
    "\n",
    "yt = rev_normalize(Y_test)\n",
    "\n",
    "# Accuracy evaluation\n",
    "A = sklearn.metrics.mean_absolute_error(Y_test, p)           # Best possibe result would be 0.0\n",
    "print(\"Accuracy is:\", A)\n",
    "\n",
    "np.set_printoptions(suppress=True)\n",
    "\n",
    "# Printing results\n",
    "print(\"Predictions:\")\n",
    "print(P[0:20])\n",
    "print(\"Expected values:\")\n",
    "print(yt[0:20])"
   ]
  },
  {
   "cell_type": "markdown",
   "id": "intimate-acceptance",
   "metadata": {},
   "source": [
    "## Plotting some results"
   ]
  },
  {
   "cell_type": "code",
   "execution_count": 15,
   "id": "painful-vertical",
   "metadata": {},
   "outputs": [
    {
     "data": {
      "text/plain": [
       "<Figure size 2160x1440 with 0 Axes>"
      ]
     },
     "execution_count": 15,
     "metadata": {},
     "output_type": "execute_result"
    },
    {
     "data": {
      "image/png": "[encoded data removed]",
      "text/plain": [
       "<Figure size 432x288 with 1 Axes>"
      ]
     },
     "metadata": {
      "needs_background": "light"
     },
     "output_type": "display_data"
    },
    {
     "data": {
      "text/plain": [
       "<Figure size 2160x1440 with 0 Axes>"
      ]
     },
     "metadata": {},
     "output_type": "display_data"
    }
   ],
   "source": [
    "L = range(100)\n",
    "ylabels = []\n",
    "for i in range(math.floor(np.amin(yt)-3),math.ceil(np.amax(yt)+3),1):\n",
    "    ylabels.append(i)\n",
    "plt.yticks(ylabels,ylabels)\n",
    "plt.plot(L, P[0:100], 'r', label=\"Predictions\")\n",
    "plt.plot(L, yt[0:100], 'b', label=\"Expected Values\")\n",
    "plt.title('Predictions vs Expected Values comparison for first 100 values')\n",
    "plt.legend(loc='best')\n",
    "plt.figure(figsize=(30,20))"
   ]
  },
  {
   "cell_type": "code",
   "execution_count": 16,
   "id": "generous-investigation",
   "metadata": {},
   "outputs": [
    {
     "data": {
      "text/plain": [
       "<Figure size 2160x1440 with 0 Axes>"
      ]
     },
     "execution_count": 16,
     "metadata": {},
     "output_type": "execute_result"
    },
    {
     "data": {
      "image/png": "[encoded data removed]",
      "text/plain": [
       "<Figure size 432x288 with 1 Axes>"
      ]
     },
     "metadata": {
      "needs_background": "light"
     },
     "output_type": "display_data"
    },
    {
     "data": {
      "text/plain": [
       "<Figure size 2160x1440 with 0 Axes>"
      ]
     },
     "metadata": {},
     "output_type": "display_data"
    }
   ],
   "source": [
    "L = range(40)\n",
    "ylabels = []\n",
    "for i in range(math.floor(np.amin(yt)-3),math.ceil(np.amax(yt)+3),1):\n",
    "    ylabels.append(i)\n",
    "plt.yticks(ylabels,ylabels)\n",
    "plt.plot(L, P[0:40], 'r', label=\"Predictions\")\n",
    "plt.plot(L, yt[0:40], 'b', label=\"Expected Values\")\n",
    "plt.title('Predictions vs Expected Values comparison for first 20 values')\n",
    "plt.legend(loc='best')\n",
    "plt.figure(figsize=(30,20))"
   ]
  }
 ],
 "metadata": {
  "kernelspec": {
   "display_name": "Python 3",
   "language": "python",
   "name": "python3"
  },
  "language_info": {
   "codemirror_mode": {
    "name": "ipython",
    "version": 3
   },
   "file_extension": ".py",
   "mimetype": "text/x-python",
   "name": "python",
   "nbconvert_exporter": "python",
   "pygments_lexer": "ipython3",
   "version": "3.8.3"
  }
 },
 "nbformat": 4,
 "nbformat_minor": 5
}
